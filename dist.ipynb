{
 "cells": [
  {
   "cell_type": "code",
   "execution_count": 29,
   "metadata": {},
   "outputs": [],
   "source": [
    "from geopy.distance import distance\n",
    "import pandas as pd\n",
    "import geopandas as gpd\n"
   ]
  },
  {
   "cell_type": "code",
   "execution_count": 30,
   "metadata": {},
   "outputs": [],
   "source": [
    "df=gpd.read_file(r\"backend\\myproject\\myapp2\\utils\\synthetic dataset.csv\")\n",
    "lat=df[\"Latitude\"]\n",
    "lon=df[\"Longitude\"]\n",
    "\n",
    "\n",
    "#"
   ]
  },
  {
   "cell_type": "code",
   "execution_count": 37,
   "metadata": {},
   "outputs": [],
   "source": [
    "def min_dis(primary_loc):\n",
    "    d=[]\n",
    "    for i,j in zip(lat,lon):\n",
    "\n",
    "        if (i,j) == primary_loc:\n",
    "            continue\n",
    "        else:\n",
    "            #location=(i,j)\n",
    "            dist=distance(primary_loc,(i,j))\n",
    "            d.append(dist)\n",
    "\n",
    "\n",
    "    print(min(d))"
   ]
  },
  {
   "cell_type": "code",
   "execution_count": 39,
   "metadata": {},
   "outputs": [
    {
     "name": "stdout",
     "output_type": "stream",
     "text": [
      "0.0 km\n"
     ]
    }
   ],
   "source": [
    "primary_loc=(11.080446,77.001591)\n",
    "min_dis(primary_loc)\n",
    "#d=[]\n",
    "#for i,j in zip(lat,lon):\n",
    "#\n",
    "#    if (i,j) == primary_loc:\n",
    "#        continue\n",
    "#    else:\n",
    "#        #location=(i,j)\n",
    "#        dist=distance(primary_loc,(i,j))\n",
    "#        d.append(dist)\n",
    "#    \n",
    "#\n",
    "#print(min(d))"
   ]
  }
 ],
 "metadata": {
  "kernelspec": {
   "display_name": "Python 3",
   "language": "python",
   "name": "python3"
  },
  "language_info": {
   "codemirror_mode": {
    "name": "ipython",
    "version": 3
   },
   "file_extension": ".py",
   "mimetype": "text/x-python",
   "name": "python",
   "nbconvert_exporter": "python",
   "pygments_lexer": "ipython3",
   "version": "3.11.1"
  }
 },
 "nbformat": 4,
 "nbformat_minor": 2
}
